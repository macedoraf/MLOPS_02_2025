{
 "cells": [
  {
   "cell_type": "markdown",
   "id": "52180fbe",
   "metadata": {
    "id": "52180fbe"
   },
   "source": [
    "# Identificação\n",
    "\n",
    "**Assunto:** Modelagem\n",
    "\n",
    "**Tutor:** Manoel Veríssimo dos Santos Neto e Matheus Patusco"
   ]
  },
  {
   "cell_type": "markdown",
   "id": "ba1f5e10",
   "metadata": {
    "id": "ba1f5e10"
   },
   "source": [
    "## 1- Objetivos de Aprendizagem\n",
    "Neste notebook, iremos:\n",
    "1. Recuperar o dataset processado em CSV.\n",
    "2. Comparar múltiplos algoritmos de machine learning.\n",
    "3. Armazenar e versionar no MLflow o modelo com melhor desempenho e menor custo computacional.\n",
    "\n",
    "### 1.1- Bibliotecas Necessárias\n",
    "    "
   ]
  },
  {
   "cell_type": "code",
   "id": "b66b4d2c",
   "metadata": {
    "id": "b66b4d2c"
   },
   "source": [
    "# Manipulação e visualização de dados\n",
    "import pandas as pd\n",
    "import seaborn as sns\n",
    "import time\n",
    "\n",
    "# Bibliotecas para aprendizado de máquina\n",
    "from sklearn.model_selection import train_test_split\n",
    "from sklearn.ensemble import RandomForestClassifier, GradientBoostingClassifier\n",
    "from sklearn.linear_model import LogisticRegression\n",
    "from sklearn.neighbors import KNeighborsClassifier\n",
    "from sklearn.metrics import accuracy_score, f1_score\n",
    "\n",
    "# MLflow para gerenciamento de experimentos\n",
    "import mlflow\n",
    "import mlflow.sklearn\n",
    "\n",
    "# Supressão de avisos\n",
    "import warnings\n",
    "warnings.filterwarnings(\"ignore\")"
   ],
   "outputs": [],
   "execution_count": null
  },
  {
   "cell_type": "markdown",
   "id": "47a22a29",
   "metadata": {
    "id": "47a22a29"
   },
   "source": [
    "## 2- Recuperando o Dataset do MLflow"
   ]
  },
  {
   "cell_type": "code",
   "id": "57d5821f",
   "metadata": {
    "id": "57d5821f"
   },
   "source": [
    "# Especificar o caminho do artefato no MLflow\n",
    "artifact_path = \"../02-dados/dados_processados.csv\"\n",
    "\n",
    "# Carregar o dataset processado\n",
    "dados = pd.read_csv(artifact_path)\n",
    "dados.head()"
   ],
   "outputs": [],
   "execution_count": null
  },
  {
   "cell_type": "markdown",
   "id": "1a7c9071",
   "metadata": {
    "id": "1a7c9071"
   },
   "source": [
    "## 3- Dividindo os Dados para Treinamento e Teste"
   ]
  },
  {
   "cell_type": "code",
   "id": "1b983cb5",
   "metadata": {
    "id": "1b983cb5"
   },
   "source": [
    "# Separando as features (X) e o target (y)\n",
    "X = dados.drop(columns=[\"Survived\", \"Name\", \"Ticket\", \"Cabin\", \"Embarked\"], errors='ignore')  # Substitua 'Survived' pelo nome da coluna alvo, se necessário\n",
    "y = dados[\"Survived\"]  # Substitua 'Survived' pelo nome da coluna alvo, se necessário\n",
    "\n",
    "# Divisão dos dados em conjuntos de treinamento e teste\n",
    "X_train, X_test, y_train, y_test = train_test_split(X, y, test_size=0.2, random_state=42)\n",
    "\n",
    "print(f\"Conjunto de treinamento: {X_train.shape}\")\n",
    "print(f\"Conjunto de teste: {X_test.shape}\")"
   ],
   "outputs": [],
   "execution_count": null
  },
  {
   "cell_type": "markdown",
   "id": "5a6afdbd",
   "metadata": {
    "id": "5a6afdbd"
   },
   "source": [
    "## 4- Comparando Algoritmos de Machine Learning"
   ]
  },
  {
   "cell_type": "code",
   "id": "aa6ed8e9",
   "metadata": {
    "id": "aa6ed8e9"
   },
   "source": [
    "# Lista de modelos para comparar\n",
    "modelos = {\n",
    "    \"Random Forest\": RandomForestClassifier(random_state=42),\n",
    "    \"Logistic Regression\": LogisticRegression(max_iter=1000, random_state=42),\n",
    "    \"K-Nearest Neighbors\": KNeighborsClassifier(),\n",
    "    \"Gradient Boosting\": GradientBoostingClassifier(random_state=42)\n",
    "}\n",
    "\n",
    "resultados = []\n",
    "\n",
    "# Avaliar cada modelo\n",
    "for nome, modelo in modelos.items():\n",
    "    inicio = time.time()\n",
    "    modelo.fit(X_train, y_train)  # Treinamento\n",
    "    fim = time.time()\n",
    "\n",
    "    # Previsões\n",
    "    y_pred = modelo.predict(X_test)\n",
    "\n",
    "    # Métricas\n",
    "    acuracia = accuracy_score(y_test, y_pred)\n",
    "    f1 = f1_score(y_test, y_pred, average=\"weighted\")\n",
    "    tempo_treino = fim - inicio\n",
    "\n",
    "    # Registrar no MLflow\n",
    "    with mlflow.start_run(run_name=nome):\n",
    "        mlflow.log_param(\"Modelo\", nome)\n",
    "        mlflow.log_metric(\"Acurácia\", acuracia)\n",
    "        mlflow.log_metric(\"F1-Score\", f1)\n",
    "        mlflow.log_metric(\"Tempo de Treinamento\", tempo_treino)\n",
    "        mlflow.sklearn.log_model(modelo, \"modelo\")\n",
    "\n",
    "    # Armazenar resultados\n",
    "    resultados.append({\n",
    "        \"Modelo\": nome,\n",
    "        \"Acurácia\": acuracia,\n",
    "        \"F1-Score\": f1,\n",
    "        \"Tempo de Treinamento (s)\": tempo_treino\n",
    "    })\n",
    "    print(f\"Modelo {nome} treinado e registrado no MLflow.\")"
   ],
   "outputs": [],
   "execution_count": null
  },
  {
   "cell_type": "markdown",
   "id": "0cb612a5",
   "metadata": {
    "id": "0cb612a5"
   },
   "source": [
    "## 5- Resultados da Comparação"
   ]
  },
  {
   "cell_type": "code",
   "id": "3e638c98",
   "metadata": {
    "id": "3e638c98"
   },
   "source": [
    "# Criar um DataFrame com os resultados\n",
    "df_resultados = pd.DataFrame(resultados)\n",
    "df_resultados.sort_values(by=[\"Acurácia\", \"Tempo de Treinamento (s)\"], ascending=[False, True], inplace=True)\n",
    "print(\"Resultados da Comparação:\")\n",
    "print(df_resultados)\n",
    "\n",
    "# Exibir o modelo com melhor desempenho\n",
    "melhor_modelo = df_resultados.iloc[0]\n",
    "print(f\"Melhor Modelo: {melhor_modelo['Modelo']}\")"
   ],
   "outputs": [],
   "execution_count": null
  },
  {
   "cell_type": "markdown",
   "id": "61670150",
   "metadata": {
    "id": "61670150"
   },
   "source": [
    "## 6- Armazenando o Melhor Modelo no MLflow"
   ]
  },
  {
   "cell_type": "code",
   "id": "226cf3d5",
   "metadata": {
    "id": "226cf3d5"
   },
   "source": [
    "# Recuperar o modelo com melhor desempenho\n",
    "nome_melhor_modelo = melhor_modelo[\"Modelo\"]\n",
    "modelo_final = modelos[nome_melhor_modelo]\n",
    "\n",
    "# Armazenar o modelo final no MLflow\n",
    "with mlflow.start_run(run_name=\"Melhor Modelo\"):\n",
    "    mlflow.log_param(\"Modelo\", nome_melhor_modelo)\n",
    "    mlflow.log_metric(\"Acurácia\", melhor_modelo[\"Acurácia\"])\n",
    "    mlflow.log_metric(\"F1-Score\", melhor_modelo[\"F1-Score\"])\n",
    "    mlflow.log_metric(\"Tempo de Treinamento\", melhor_modelo[\"Tempo de Treinamento (s)\"])\n",
    "    mlflow.sklearn.log_model(modelo_final, \"melhor_modelo\")\n",
    "print(f\"Melhor modelo ({nome_melhor_modelo}) armazenado com sucesso no MLflow.\")"
   ],
   "outputs": [],
   "execution_count": null
  },
  {
   "cell_type": "markdown",
   "source": [
    "## 7- Exercícios\n",
    "\n",
    "\n",
    "1.   Verificar a documentação dos modelos RandomForestClassifier, LogisticRegression, KNeighborsClassifier, GradientBoostingClassifier e altere ou inclua algum parâmetro dos modelos e compare os resultados com o baseline executado nesse notebook.\n",
    "2.   Busque algum outro dataset no Kaggle para um problema de regressão e faça um novo treino. Lembre de modificar as métricas, ex.: MSE.\n",
    "3.   Execute o MLFlow de maneira que se parar o container os dados não sejam perdidos, podendo salvar os dados ou no SQLite (default) ou outro banco de dados da sua escolha.\n",
    "\n",
    "**Importante:**\n",
    "\n",
    "*   Todas as alterações devem ser registradas no Mlflow (subir em container) para que seja possível realizar comparações entre os experimentos."
   ],
   "metadata": {
    "id": "N8QXusMICpY0"
   },
   "id": "N8QXusMICpY0"
  },
  {
   "cell_type": "markdown",
   "id": "4f8122e5",
   "metadata": {
    "id": "4f8122e5"
   },
   "source": [
    "## Conclusão"
   ]
  },
  {
   "cell_type": "markdown",
   "id": "ef3c3534",
   "metadata": {
    "id": "ef3c3534"
   },
   "source": [
    "\n",
    "Este notebook demonstrou como comparar múltiplos algoritmos de machine learning, avaliar seus desempenhos e armazenar o melhor modelo no MLflow.\n",
    "O MLflow foi utilizado para rastrear e versionar os experimentos e os modelos de forma eficaz.\n",
    "    "
   ]
  }
 ],
 "metadata": {
  "colab": {
   "provenance": []
  },
  "language_info": {
   "name": "python"
  },
  "kernelspec": {
   "name": "python3",
   "display_name": "Python 3 (ipykernel)",
   "language": "python"
  }
 },
 "nbformat": 4,
 "nbformat_minor": 5
}
