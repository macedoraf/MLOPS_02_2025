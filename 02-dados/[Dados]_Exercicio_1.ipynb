{
 "cells": [
  {
   "cell_type": "markdown",
   "metadata": {},
   "source": [
    "Utilizando esse conjunto de dados:\n",
    "https://www.kaggle.com/datasets/disham993/9000-movies-dataset\n",
    "\n",
    "Responda as seguintes perguntas:\n",
    "\n",
    "1.   Qual tamanho do DataSet?\n",
    "2.   Quantas linhas?\n",
    "3.   Quantas colunas?\n",
    "4.   Qual o tipo de variável de cada coluna?\n",
    "5.   Qual o filme com maior número de votaçôes?\n",
    "6.   Qual filme teve a maior nota (critério de desempate é o filme com mais votos)\n",
    "7.   Existem valores nulos? Se sim, qual tratamento irá realizar? (Se não temos nome de algum filme, melhor nem considerar)\n",
    "8.   Transforme as variaveis categóricas de linguagem e genero em númericas (utilize dummy)\n",
    "9.   Normalize as variaveis numéricas\n",
    "10.  Armazene esses valores como um artefato dentro do MLFlow\n",
    "11. QUais insights é possivel obter desses dados?\n",
    "\n"
   ]
  }
 ],
 "metadata": {
  "language_info": {
   "name": "python"
  }
 },
 "nbformat": 4,
 "nbformat_minor": 2
}
