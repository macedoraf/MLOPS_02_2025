{
 "cells": [
  {
   "cell_type": "markdown",
   "metadata": {},
   "source": [
    "# Checkpoint 1\n",
    "\n",
    "A partir do dataset enviado, responda:\n",
    "\n",
    "## Importação e Análise Inicial\n",
    "\n",
    "1. Importe o arquivo CSV.(0,33)\n",
    "2. Quantas linhas tem o dataset?(0,33)\n",
    "3. Quantas colunas tem o dataset?(0,33)\n",
    "4. Quais colunas têm o tipo `object`?(0,34)\n",
    "5. Quais colunas têm o tipo `int64`?(0,34)\n",
    "6. Existe alguma coluna de outro tipo?(0,33)\n",
    "\n",
    "## Análise Estatística\n",
    "\n",
    "7. Qual foi o total, o máximo, o mínimo do objetivo financeiro de todos os projetos (goal)?(0,66)\n",
    "8. Qual o total, o máximo, o mínimo e o valor que representa 25% do dinheiro levantado (pledged)?(0,67)\n",
    "9. Qual o total, o máximo, o mínimo e o valor que representa 75% dos apoiadores dos projetos(backers)?(0,67)\n",
    "\n",
    "## Análise de Categorias\n",
    "\n",
    "10. Qual a `category` mais presente? E quantos valores únicos ela possui?(0,5)\n",
    "11. Qual a `main_category` mais presente? E quantos valores únicos ela possui?(0,5)\n",
    "12. Qual a `currency` mais presente? E quantos valores únicos ela possui?(0,5)\n",
    "13. Execute o processo de dummy na coluna `country`.(0,5)\n",
    "\n",
    "## Análise de Valores Nulos\n",
    "\n",
    "14. Qual a quantidade de valores nulos em cada feature?(0,66)\n",
    "15. Qual a proporção de valores nulos por valores não nulos em cada feature?(0,66)\n",
    "16. Faça o tratamento desses nulos e explique por que escolheu cada método.(0,68)\n",
    "\n",
    "## Visualização Gráfica\n",
    "\n",
    "17. Visualização Gráfica da feature `state`.(2)\n",
    "\n",
    "\n",
    "\n",
    "----------------------------------------\n",
    "🧩 Desafio: ETL de Dados Públicos\n",
    "\n",
    "🎯 Objetivo\n",
    "Construir um pipeline ETL no Apache Airflow que:\n",
    "\n",
    "Extrai dados de algum dataset público\n",
    "\n",
    "Transforma os dados limpando, filtrando e unificando informações.\n",
    "\n",
    "Carrega o resultado em um banco de dados PostgreSQL (ou salva como Parquet).\n",
    "\n",
    "Agenda a execução diária do pipeline (simulando ingestão incremental)."
   ]
  },
  {
   "cell_type": "code",
   "execution_count": 31,
   "metadata": {},
   "outputs": [
    {
     "name": "stdout",
     "output_type": "stream",
     "text": [
      "Requirement already satisfied: pandas in /Users/rafael/projects/local-models/.venv/lib/python3.14/site-packages (2.3.3)\n",
      "Collecting matplotlib\n",
      "  Using cached matplotlib-3.10.7-cp314-cp314-macosx_11_0_arm64.whl.metadata (11 kB)\n",
      "Collecting seaborn\n",
      "  Using cached seaborn-0.13.2-py3-none-any.whl.metadata (5.4 kB)\n",
      "Requirement already satisfied: numpy>=1.26.0 in /Users/rafael/projects/local-models/.venv/lib/python3.14/site-packages (from pandas) (2.2.6)\n",
      "Requirement already satisfied: python-dateutil>=2.8.2 in /Users/rafael/projects/local-models/.venv/lib/python3.14/site-packages (from pandas) (2.9.0.post0)\n",
      "Requirement already satisfied: pytz>=2020.1 in /Users/rafael/projects/local-models/.venv/lib/python3.14/site-packages (from pandas) (2025.2)\n",
      "Requirement already satisfied: tzdata>=2022.7 in /Users/rafael/projects/local-models/.venv/lib/python3.14/site-packages (from pandas) (2025.2)\n",
      "Collecting contourpy>=1.0.1 (from matplotlib)\n",
      "  Using cached contourpy-1.3.3-cp314-cp314-macosx_11_0_arm64.whl.metadata (5.5 kB)\n",
      "Collecting cycler>=0.10 (from matplotlib)\n",
      "  Using cached cycler-0.12.1-py3-none-any.whl.metadata (3.8 kB)\n",
      "Collecting fonttools>=4.22.0 (from matplotlib)\n",
      "  Using cached fonttools-4.60.1-cp314-cp314-macosx_10_13_universal2.whl.metadata (112 kB)\n",
      "Collecting kiwisolver>=1.3.1 (from matplotlib)\n",
      "  Using cached kiwisolver-1.4.9-cp314-cp314-macosx_11_0_arm64.whl.metadata (6.3 kB)\n",
      "Requirement already satisfied: packaging>=20.0 in /Users/rafael/projects/local-models/.venv/lib/python3.14/site-packages (from matplotlib) (25.0)\n",
      "Requirement already satisfied: pillow>=8 in /Users/rafael/projects/local-models/.venv/lib/python3.14/site-packages (from matplotlib) (11.3.0)\n",
      "Collecting pyparsing>=3 (from matplotlib)\n",
      "  Using cached pyparsing-3.2.5-py3-none-any.whl.metadata (5.0 kB)\n",
      "Requirement already satisfied: six>=1.5 in /Users/rafael/projects/local-models/.venv/lib/python3.14/site-packages (from python-dateutil>=2.8.2->pandas) (1.17.0)\n",
      "Using cached matplotlib-3.10.7-cp314-cp314-macosx_11_0_arm64.whl (8.1 MB)\n",
      "Using cached seaborn-0.13.2-py3-none-any.whl (294 kB)\n",
      "Using cached contourpy-1.3.3-cp314-cp314-macosx_11_0_arm64.whl (273 kB)\n",
      "Using cached cycler-0.12.1-py3-none-any.whl (8.3 kB)\n",
      "Using cached fonttools-4.60.1-cp314-cp314-macosx_10_13_universal2.whl (2.8 MB)\n",
      "Using cached kiwisolver-1.4.9-cp314-cp314-macosx_11_0_arm64.whl (64 kB)\n",
      "Using cached pyparsing-3.2.5-py3-none-any.whl (113 kB)\n",
      "Installing collected packages: pyparsing, kiwisolver, fonttools, cycler, contourpy, matplotlib, seaborn\n",
      "\u001b[2K   \u001b[90m━━━━━━━━━━━━━━━━━━━━━━━━━━━━━━━━━━━━━━━━\u001b[0m \u001b[32m7/7\u001b[0m [seaborn]m6/7\u001b[0m [seaborn]ib]\n",
      "\u001b[1A\u001b[2KSuccessfully installed contourpy-1.3.3 cycler-0.12.1 fonttools-4.60.1 kiwisolver-1.4.9 matplotlib-3.10.7 pyparsing-3.2.5 seaborn-0.13.2\n"
     ]
    }
   ],
   "source": [
    "!pip install pandas matplotlib seaborn"
   ]
  },
  {
   "cell_type": "code",
   "execution_count": 34,
   "metadata": {},
   "outputs": [],
   "source": [
    "import pandas as pd\n",
    "import matplotlib.pyplot as plt\n",
    "import seaborn as sns\n"
   ]
  },
  {
   "cell_type": "code",
   "execution_count": 37,
   "metadata": {},
   "outputs": [
    {
     "name": "stdout",
     "output_type": "stream",
     "text": [
      "<class 'pandas.core.frame.DataFrame'>\n",
      "RangeIndex: 44623 entries, 0 to 44622\n",
      "Data columns (total 16 columns):\n",
      " #   Column             Non-Null Count  Dtype  \n",
      "---  ------             --------------  -----  \n",
      " 0   Regiao - Sigla     44623 non-null  object \n",
      " 1   Estado - Sigla     44623 non-null  object \n",
      " 2   Municipio          44623 non-null  object \n",
      " 3   Revenda            44623 non-null  object \n",
      " 4   CNPJ da Revenda    44623 non-null  object \n",
      " 5   Nome da Rua        44623 non-null  object \n",
      " 6   Numero Rua         44617 non-null  object \n",
      " 7   Complemento        9533 non-null   object \n",
      " 8   Bairro             44556 non-null  object \n",
      " 9   Cep                44623 non-null  object \n",
      " 10  Produto            44623 non-null  object \n",
      " 11  Data da Coleta     44623 non-null  object \n",
      " 12  Valor de Venda     44623 non-null  float64\n",
      " 13  Valor de Compra    0 non-null      float64\n",
      " 14  Unidade de Medida  44623 non-null  object \n",
      " 15  Bandeira           44623 non-null  object \n",
      "dtypes: float64(2), object(14)\n",
      "memory usage: 5.4+ MB\n"
     ]
    }
   ],
   "source": [
    "#1 import csv\n",
    "df = pd.read_csv('resources/precos-gasolina-etanol-07.csv', sep=';', decimal=',')\n",
    "df.info() "
   ]
  },
  {
   "cell_type": "code",
   "execution_count": 38,
   "metadata": {},
   "outputs": [
    {
     "name": "stdout",
     "output_type": "stream",
     "text": [
      "---\n",
      "count    44623.000000\n",
      "mean         5.686718\n",
      "std          1.013775\n",
      "min          3.090000\n",
      "25%          4.790000\n",
      "50%          5.990000\n",
      "75%          6.390000\n",
      "max          9.390000\n",
      "Name: Valor de Venda, dtype: float64\n",
      "---\n",
      "count        44623\n",
      "unique           3\n",
      "top       GASOLINA\n",
      "freq         17021\n",
      "Name: Produto, dtype: object\n",
      "---\n",
      "count                                      44623\n",
      "unique                                      5050\n",
      "top       CASCOL COMBUSTIVEIS PARA VEICULOS LTDA\n",
      "freq                                         462\n",
      "Name: Revenda, dtype: object\n",
      "---\n"
     ]
    }
   ],
   "source": [
    "#7. Qual foi o total, o máximo, o mínimo do objetivo financeiro de todos os projetos (goal)?(0,66)\n",
    "#8. Qual o total, o máximo, o mínimo e o valor que representa 25% do dinheiro levantado (pledged)?(0,67)\n",
    "#9. Qual o total, o máximo, o mínimo e o valor que representa 75% dos apoiadores dos projetos(backers)?(0,67)\n",
    "\n",
    "#10. Qual a `category` mais presente? E quantos valores únicos ela possui?(0,5)\n",
    "#11. Qual a `main_category` mais presente? E quantos valores únicos ela possui?(0,5)\n",
    "#12. Qual a `currency` mais presente? E quantos valores únicos ela possui?(0,5)\n",
    "#13. Execute o processo de dummy na coluna `country`.(0,5)\n",
    "\n",
    "# 7,8 e 9\n",
    "print('---')\n",
    "print(df['Valor de Venda'].describe())\n",
    "print('---')\n",
    "print(df['Produto'].describe())\n",
    "print('---')\n",
    "print(df['Revenda'].describe())\n",
    "print('---')"
   ]
  },
  {
   "cell_type": "markdown",
   "metadata": {},
   "source": []
  },
  {
   "cell_type": "code",
   "execution_count": 39,
   "metadata": {},
   "outputs": [
    {
     "name": "stdout",
     "output_type": "stream",
     "text": [
      "Distribuição por tipo de produto\n",
      "Produto\n",
      "GASOLINA              38.144006\n",
      "ETANOL                31.974542\n",
      "GASOLINA ADITIVADA    29.881451\n",
      "Name: proportion, dtype: float64\n",
      "---\n",
      "Bandeiras mais frequentes\n",
      "Bandeira\n",
      "BRANCA      14007\n",
      "VIBRA       10457\n",
      "IPIRANGA     9714\n",
      "RAIZEN       6717\n",
      "ALE          1182\n",
      "SABBÁ         544\n",
      "RODOIL        220\n",
      "ATEM' S       204\n",
      "CHARRUA       168\n",
      "EQUADOR       143\n",
      "Name: count, dtype: int64\n",
      "---\n",
      "Top estados com media mais cara\n"
     ]
    },
    {
     "data": {
      "text/plain": [
       "Estado - Sigla\n",
       "AC    7.170168\n",
       "AM    6.775175\n",
       "RR    6.634639\n",
       "RO    6.498249\n",
       "SE    6.240040\n",
       "PA    6.176480\n",
       "DF    6.098504\n",
       "CE    6.079467\n",
       "RS    6.028339\n",
       "AP    6.006692\n",
       "SC    5.990370\n",
       "AL    5.956958\n",
       "TO    5.904625\n",
       "PE    5.882906\n",
       "MA    5.843841\n",
       "RN    5.843641\n",
       "BA    5.811477\n",
       "ES    5.767765\n",
       "PR    5.725013\n",
       "MS    5.690923\n",
       "RJ    5.686401\n",
       "PI    5.589309\n",
       "PB    5.533438\n",
       "MG    5.495877\n",
       "GO    5.495412\n",
       "SP    5.397443\n",
       "MT    5.293511\n",
       "Name: Valor de Venda, dtype: float64"
      ]
     },
     "execution_count": 39,
     "metadata": {},
     "output_type": "execute_result"
    }
   ],
   "source": [
    "# 9.Distribuição por tipo de produto\n",
    "print('Distribuição por tipo de produto')\n",
    "print(df['Produto'].value_counts(normalize=True) * 100)\n",
    "\n",
    "# 10.Bandeiras mais frequentes\n",
    "print('---')\n",
    "print('Bandeiras mais frequentes')\n",
    "print(df['Bandeira'].value_counts().head(10))\n",
    "# 11.Bandeiras mais frequentes\n",
    "print('---')\n",
    "print('Top estados com media mais cara')\n",
    "df.groupby('Estado - Sigla')['Valor de Venda'].mean().sort_values(ascending=False)\n"
   ]
  },
  {
   "cell_type": "code",
   "execution_count": 40,
   "metadata": {},
   "outputs": [
    {
     "name": "stdout",
     "output_type": "stream",
     "text": [
      "<class 'pandas.core.frame.DataFrame'>\n",
      "RangeIndex: 44623 entries, 0 to 44622\n",
      "Columns: 464 entries, Revenda to Bandeira_WATT\n",
      "dtypes: bool(454), float64(2), object(8)\n",
      "memory usage: 22.7+ MB\n",
      "None\n",
      "                        Revenda      CNPJ da Revenda     Nome da Rua  \\\n",
      "0   AUTO POSTO M M GARROTE LTDA   08.738.994/0001-50  RODOVIA AL-220   \n",
      "1   AUTO POSTO M M GARROTE LTDA   08.738.994/0001-50  RODOVIA AL-220   \n",
      "2  AUTO POSTO MASSARANDUBA LTDA   07.248.398/0001-29  RODOVIA AL 220   \n",
      "3  AUTO POSTO MASSARANDUBA LTDA   07.248.398/0001-29  RODOVIA AL 220   \n",
      "4  AUTO POSTO MASSARANDUBA LTDA   07.248.398/0001-29  RODOVIA AL 220   \n",
      "\n",
      "  Numero Rua Complemento       Bairro        Cep Data da Coleta  \\\n",
      "0       5848    KM    96  BOM SUCESSO  57309-035     01/07/2025   \n",
      "1       5848    KM    96  BOM SUCESSO  57309-035     01/07/2025   \n",
      "2       4698         NaN     PLANALTO  57308-000     01/07/2025   \n",
      "3       4698         NaN     PLANALTO  57308-000     01/07/2025   \n",
      "4       4698         NaN     PLANALTO  57308-000     01/07/2025   \n",
      "\n",
      "   Valor de Venda  Valor de Compra  ...  Bandeira_SIM DISTRIBUIDOR  \\\n",
      "0            6.15              NaN  ...                      False   \n",
      "1            4.79              NaN  ...                      False   \n",
      "2            5.89              NaN  ...                      False   \n",
      "3            5.99              NaN  ...                      False   \n",
      "4            4.98              NaN  ...                      False   \n",
      "\n",
      "   Bandeira_SP  Bandeira_STANG  Bandeira_TAURUS  Bandeira_TDC DISTRIBUIDORA  \\\n",
      "0        False           False            False                       False   \n",
      "1        False           False            False                       False   \n",
      "2        False           False            False                       False   \n",
      "3        False           False            False                       False   \n",
      "4        False           False            False                       False   \n",
      "\n",
      "   Bandeira_TEMAPE  Bandeira_TOTALENERGIES  Bandeira_VIBRA  \\\n",
      "0            False                   False            True   \n",
      "1            False                   False            True   \n",
      "2            False                   False           False   \n",
      "3            False                   False           False   \n",
      "4            False                   False           False   \n",
      "\n",
      "   Bandeira_WALENDOWSKY  Bandeira_WATT  \n",
      "0                 False          False  \n",
      "1                 False          False  \n",
      "2                 False          False  \n",
      "3                 False          False  \n",
      "4                 False          False  \n",
      "\n",
      "[5 rows x 464 columns]\n"
     ]
    }
   ],
   "source": [
    "# Dummyes everywhere\n",
    "cols_cat = [\n",
    "    'Regiao - Sigla',\n",
    "    'Estado - Sigla',\n",
    "    'Municipio',\n",
    "    'Produto',\n",
    "    'Bandeira',\n",
    "    'Unidade de Medida'\n",
    "]\n",
    "\n",
    "df_dummies = pd.get_dummies(df, columns=cols_cat, drop_first=True)\n",
    "print(df_dummies.info())\n",
    "print(df_dummies.head())"
   ]
  },
  {
   "cell_type": "code",
   "execution_count": 41,
   "metadata": {},
   "outputs": [
    {
     "name": "stdout",
     "output_type": "stream",
     "text": [
      "Regiao - Sigla           0\n",
      "Estado - Sigla           0\n",
      "Municipio                0\n",
      "Revenda                  0\n",
      "CNPJ da Revenda          0\n",
      "Nome da Rua              0\n",
      "Numero Rua               6\n",
      "Complemento          35090\n",
      "Bairro                  67\n",
      "Cep                      0\n",
      "Produto                  0\n",
      "Data da Coleta           0\n",
      "Valor de Venda           0\n",
      "Valor de Compra      44623\n",
      "Unidade de Medida        0\n",
      "Bandeira                 0\n",
      "dtype: int64\n",
      "---\n",
      "Regiao - Sigla       0.0000\n",
      "Estado - Sigla       0.0000\n",
      "Municipio            0.0000\n",
      "Revenda              0.0000\n",
      "CNPJ da Revenda      0.0000\n",
      "Nome da Rua          0.0000\n",
      "Numero Rua           0.0001\n",
      "Complemento          0.7864\n",
      "Bairro               0.0015\n",
      "Cep                  0.0000\n",
      "Produto              0.0000\n",
      "Data da Coleta       0.0000\n",
      "Valor de Venda       0.0000\n",
      "Valor de Compra      1.0000\n",
      "Unidade de Medida    0.0000\n",
      "Bandeira             0.0000\n",
      "dtype: float64\n"
     ]
    }
   ],
   "source": [
    "# Quantidade de valores nulos\n",
    "print(df.isnull().sum())\n",
    "print(\"---\")\n",
    "# Nao nulls proporcao\n",
    "print((df.isnull().sum() / len(df)).round(4))"
   ]
  },
  {
   "cell_type": "code",
   "execution_count": 43,
   "metadata": {},
   "outputs": [
    {
     "name": "stdout",
     "output_type": "stream",
     "text": [
      "Regiao - Sigla       0\n",
      "Estado - Sigla       0\n",
      "Municipio            0\n",
      "Revenda              0\n",
      "CNPJ da Revenda      0\n",
      "Nome da Rua          0\n",
      "Numero Rua           0\n",
      "Bairro               0\n",
      "Cep                  0\n",
      "Produto              0\n",
      "Data da Coleta       0\n",
      "Valor de Venda       0\n",
      "Unidade de Medida    0\n",
      "Bandeira             0\n",
      "dtype: int64\n"
     ]
    },
    {
     "name": "stderr",
     "output_type": "stream",
     "text": [
      "/var/folders/mx/th5bgtcn19d079t50rlghdrw0000gp/T/ipykernel_44476/904758912.py:4: FutureWarning: A value is trying to be set on a copy of a DataFrame or Series through chained assignment using an inplace method.\n",
      "The behavior will change in pandas 3.0. This inplace method will never work because the intermediate object on which we are setting values always behaves as a copy.\n",
      "\n",
      "For example, when doing 'df[col].method(value, inplace=True)', try using 'df.method({col: value}, inplace=True)' or df[col] = df[col].method(value) instead, to perform the operation inplace on the original object.\n",
      "\n",
      "\n",
      "  clean_df['Numero Rua'].fillna('S/N', inplace=True) # Valor padrao para nao ter nulls, dps vira uma categoria\n",
      "/var/folders/mx/th5bgtcn19d079t50rlghdrw0000gp/T/ipykernel_44476/904758912.py:6: FutureWarning: A value is trying to be set on a copy of a DataFrame or Series through chained assignment using an inplace method.\n",
      "The behavior will change in pandas 3.0. This inplace method will never work because the intermediate object on which we are setting values always behaves as a copy.\n",
      "\n",
      "For example, when doing 'df[col].method(value, inplace=True)', try using 'df.method({col: value}, inplace=True)' or df[col] = df[col].method(value) instead, to perform the operation inplace on the original object.\n",
      "\n",
      "\n",
      "  clean_df['Bairro'].fillna('Não informado', inplace=True) # Bairro é uma categoria vai entrar na categoria nao informado\n"
     ]
    }
   ],
   "source": [
    "clean_df = df.copy()\n",
    "\n",
    "clean_df.drop(columns=['Valor de Compra'],inplace=True) # Não tem nada nesta coluna para todos os registros\n",
    "clean_df['Numero Rua'].fillna('S/N', inplace=True) # Valor padrao para nao ter nulls, dps vira uma categoria\n",
    "clean_df.drop(columns=['Complemento'], inplace=True) # Se ta null é pq n tem\n",
    "clean_df['Bairro'].fillna('Não informado', inplace=True) # Bairro é uma categoria vai entrar na categoria nao informado\n",
    "\n",
    "print(clean_df.isnull().sum())"
   ]
  },
  {
   "cell_type": "code",
   "execution_count": 44,
   "metadata": {},
   "outputs": [
    {
     "data": {
      "image/png": "[encoded data removed]",
      "text/plain": [
       "<Figure size 800x300 with 2 Axes>"
      ]
     },
     "metadata": {},
     "output_type": "display_data"
    }
   ],
   "source": [
    "\n",
    "mean_region = df.groupby('Regiao - Sigla')['Valor de Venda'].mean().reset_index()\n",
    "\n",
    "mean_region = mean_region.sort_values(by='Valor de Venda', ascending=False)\n",
    "\n",
    "plt.figure(figsize=(8, 3))\n",
    "sns.heatmap(\n",
    "    mean_region[['Valor de Venda']].set_index(mean_region['Regiao - Sigla']),\n",
    "    annot=True, fmt=\".2f\", cmap=\"Reds\", cbar_kws={'label': 'Preço médio (R$)'}\n",
    ")\n",
    "plt.title('Mapa de calor – Regiões mais caras (Valor médio de venda)')\n",
    "plt.ylabel('Região')\n",
    "plt.xlabel('')\n",
    "plt.tight_layout()\n",
    "plt.show()\n",
    "\n"
   ]
  }
 ],
 "metadata": {
  "kernelspec": {
   "display_name": "Python 3",
   "language": "python",
   "name": "python3"
  },
  "language_info": {
   "codemirror_mode": {
    "name": "ipython",
    "version": 3
   },
   "file_extension": ".py",
   "mimetype": "text/x-python",
   "name": "python",
   "nbconvert_exporter": "python",
   "pygments_lexer": "ipython3",
   "version": "3.11.9"
  }
 },
 "nbformat": 4,
 "nbformat_minor": 2
}
