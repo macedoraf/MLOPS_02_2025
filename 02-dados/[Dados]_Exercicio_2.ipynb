{
 "cells": [
  {
   "cell_type": "markdown",
   "metadata": {},
   "source": [
    "# Checkpoint 1\n",
    "\n",
    "A partir do dataset enviado, responda:\n",
    "\n",
    "## Importação e Análise Inicial\n",
    "\n",
    "1. Importe o arquivo CSV.(0,33)\n",
    "2. Quantas linhas tem o dataset?(0,33)\n",
    "3. Quantas colunas tem o dataset?(0,33)\n",
    "4. Quais colunas têm o tipo `object`?(0,34)\n",
    "5. Quais colunas têm o tipo `int64`?(0,34)\n",
    "6. Existe alguma coluna de outro tipo?(0,33)\n",
    "\n",
    "## Análise Estatística\n",
    "\n",
    "7. Qual foi o total, o máximo, o mínimo do objetivo financeiro de todos os projetos (goal)?(0,66)\n",
    "8. Qual o total, o máximo, o mínimo e o valor que representa 25% do dinheiro levantado (pledged)?(0,67)\n",
    "9. Qual o total, o máximo, o mínimo e o valor que representa 75% dos apoiadores dos projetos(backers)?(0,67)\n",
    "\n",
    "## Análise de Categorias\n",
    "\n",
    "10. Qual a `category` mais presente? E quantos valores únicos ela possui?(0,5)\n",
    "11. Qual a `main_category` mais presente? E quantos valores únicos ela possui?(0,5)\n",
    "12. Qual a `currency` mais presente? E quantos valores únicos ela possui?(0,5)\n",
    "13. Execute o processo de dummy na coluna `country`.(0,5)\n",
    "\n",
    "## Análise de Valores Nulos\n",
    "\n",
    "14. Qual a quantidade de valores nulos em cada feature?(0,66)\n",
    "15. Qual a proporção de valores nulos por valores não nulos em cada feature?(0,66)\n",
    "16. Faça o tratamento desses nulos e explique por que escolheu cada método.(0,68)\n",
    "\n",
    "## Visualização Gráfica\n",
    "\n",
    "17. Visualização Gráfica da feature `state`.(2)"
   ]
  },
  {
   "cell_type": "markdown",
   "metadata": {},
   "source": []
  }
 ],
 "metadata": {
  "language_info": {
   "name": "python"
  }
 },
 "nbformat": 4,
 "nbformat_minor": 2
}
