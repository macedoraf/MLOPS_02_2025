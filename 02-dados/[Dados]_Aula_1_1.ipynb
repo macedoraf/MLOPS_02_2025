{
 "cells": [
  {
   "cell_type": "markdown",
   "id": "13fe5571",
   "metadata": {},
   "source": [
    "# Guia Prático de Ciência de Dados com MLflow"
   ]
  },
  {
   "cell_type": "markdown",
   "id": "0939b031",
   "metadata": {},
   "source": [
    "\n",
    "## Conteúdos Abordados\n",
    "1. **MLflow**\n",
    "2. **Extração de Dados**\n",
    "3. **Tipos de Dados**\n",
    "4. **Engenharia de Features**\n",
    "5. **Armazenamento e Versionamento de Features com MLflow**\n",
    "    "
   ]
  },
  {
   "cell_type": "markdown",
   "id": "e441e1b9",
   "metadata": {},
   "source": [
    "## Importando Bibliotecas Necessárias"
   ]
  },
  {
   "cell_type": "code",
   "execution_count": null,
   "id": "644e4940",
   "metadata": {},
   "outputs": [],
   "source": [
    "\n",
    "# Manipulação e visualização de dados\n",
    "import pandas as pd\n",
    "import numpy as np\n",
    "import seaborn as sns\n",
    "import matplotlib.pyplot as plt\n",
    "\n",
    "# Bibliotecas para aprendizado de máquina\n",
    "from sklearn.model_selection import train_test_split\n",
    "from sklearn.preprocessing import StandardScaler, OneHotEncoder\n",
    "\n",
    "# MLflow para rastreamento de experimentos\n",
    "import mlflow\n",
    "\n",
    "# Supressão de avisos\n",
    "import warnings\n",
    "warnings.filterwarnings(\"ignore\")\n",
    "    "
   ]
  },
  {
   "cell_type": "markdown",
   "id": "6341e705",
   "metadata": {},
   "source": [
    "## Noções Básicas sobre o MLflow"
   ]
  },
  {
   "cell_type": "code",
   "execution_count": null,
   "id": "7d44181c",
   "metadata": {},
   "outputs": [],
   "source": [
    "\n",
    "# Iniciar um experimento no MLflow\n",
    "mlflow.start_run()\n",
    "\n",
    "# Registrar um parâmetro\n",
    "mlflow.log_param(\"parametro1\", \"valor1\")\n",
    "\n",
    "# Registrar uma métrica\n",
    "mlflow.log_metric(\"metrica1\", 0.85)\n",
    "\n",
    "# Encerrar o experimento\n",
    "mlflow.end_run()\n",
    "\n",
    "print(\"Experimento do MLflow registrado com sucesso.\")\n",
    "    "
   ]
  },
  {
   "cell_type": "markdown",
   "id": "12c1acd7",
   "metadata": {},
   "source": [
    "## Extração de Dados"
   ]
  },
  {
   "cell_type": "code",
   "execution_count": null,
   "id": "011d79e9",
   "metadata": {},
   "outputs": [],
   "source": [
    "\n",
    "# Exemplo: Importando um dataset do Kaggle\n",
    "# Antes de rodar, certifique-se que a API do Kaggle está configurada e kaggle.json está em ~/.kaggle\n",
    "# Instalar Kaggle caso não esteja instalado: !pip install kaggle\n",
    "\n",
    "# Comando para baixar um dataset do Kaggle\n",
    "# Exemplo: Dataset do Titanic\n",
    "!kaggle competitions download -c titanic\n",
    "\n",
    "# Descompactar o arquivo\n",
    "!unzip titanic.zip -y\n",
    "\n",
    "# Carregar o dataset\n",
    "dados = pd.read_csv(\"train.csv\")\n",
    "dados.head()\n",
    "    "
   ]
  },
  {
   "cell_type": "markdown",
   "id": "197635c2",
   "metadata": {},
   "source": [
    "## Entendimento e Interpretação dos Dados"
   ]
  },
  {
   "cell_type": "code",
   "execution_count": null,
   "id": "04b7ea46",
   "metadata": {},
   "outputs": [],
   "source": [
    "\n",
    "# Exibir informações sobre o dataset\n",
    "print(dados.info())\n",
    "\n",
    "# Exibir estatísticas básicas\n",
    "print(dados.describe())\n",
    "\n",
    "# Verificar valores ausentes\n",
    "print(dados.isnull().sum())\n",
    "    "
   ]
  },
  {
   "cell_type": "markdown",
   "id": "d54d6b66",
   "metadata": {},
   "source": [
    "## Limpeza dos Dados"
   ]
  },
  {
   "cell_type": "code",
   "execution_count": null,
   "id": "8c3fd942",
   "metadata": {},
   "outputs": [],
   "source": [
    "# Tratamento de valores ausentes apenas em colunas numéricas (mediana)\n",
    "numeric_cols = dados.select_dtypes(include=[np.number]).columns\n",
    "medianas = dados[numeric_cols].median()\n",
    "dados[numeric_cols] = dados[numeric_cols].fillna(medianas)\n",
    "\n",
    "# Removendo duplicatas\n",
    "dados.drop_duplicates(inplace=True)\n",
    "\n",
    "print(\"Dados limpos com sucesso!\")"
   ]
  },
  {
   "cell_type": "markdown",
   "id": "e4ec5c98",
   "metadata": {},
   "source": [
    "## Trabalhando com Dados Categóricos"
   ]
  },
  {
   "cell_type": "code",
   "execution_count": null,
   "id": "23cc732b",
   "metadata": {},
   "outputs": [],
   "source": [
    "\n",
    "# Exemplo: One-hot encoding para features categóricas\n",
    "encoder = OneHotEncoder(sparse=False)\n",
    "dados_categoricos = pd.DataFrame(\n",
    "    encoder.fit_transform(dados[['Sex']]),\n",
    "    columns=encoder.get_feature_names_out(['Sex'])\n",
    ")\n",
    "\n",
    "# Adicionar os dados codificados de volta ao dataset principal\n",
    "dados = pd.concat([dados, dados_categoricos], axis=1)\n",
    "dados.drop('Sex', axis=1, inplace=True)\n",
    "dados.head()\n",
    "    "
   ]
  },
  {
   "cell_type": "markdown",
   "id": "b2fe1c10",
   "metadata": {},
   "source": [
    "## Trabalhando com Dados Quantitativos"
   ]
  },
  {
   "cell_type": "code",
   "execution_count": null,
   "id": "fdc1a82a",
   "metadata": {},
   "outputs": [],
   "source": [
    "\n",
    "# Exemplo: Padronização de features numéricas\n",
    "scaler = StandardScaler()\n",
    "dados_numericos = pd.DataFrame(\n",
    "    scaler.fit_transform(dados[['Age', 'Fare']]),\n",
    "    columns=['Age_escalado', 'Fare_escalado']\n",
    ")\n",
    "\n",
    "# Adicionar os dados escalonados de volta ao dataset principal\n",
    "dados = pd.concat([dados, dados_numericos], axis=1)\n",
    "dados.drop(['Age', 'Fare'], axis=1, inplace=True)\n",
    "dados.head()\n",
    "    "
   ]
  },
  {
   "cell_type": "markdown",
   "id": "b7d2515a",
   "metadata": {},
   "source": [
    "## Armazenamento e Versionamento de Features com MLflow"
   ]
  },
  {
   "cell_type": "code",
   "execution_count": null,
   "id": "b795eb8a",
   "metadata": {},
   "outputs": [],
   "source": [
    "\n",
    "# Salvar o dataset processado como um arquivo CSV\n",
    "processed_data_path = \"dados_processados.csv\"\n",
    "dados.to_csv(processed_data_path, index=False)\n",
    "print(\"Dataset processado salvo localmente.\")\n",
    "\n",
    "# Registrar o dataset processado como artefato no MLflow\n",
    "mlflow.start_run()  # Iniciar um novo experimento\n",
    "mlflow.log_artifact(processed_data_path)  # Registrar o arquivo como artefato\n",
    "mlflow.end_run()  # Encerrar o experimento\n",
    "\n",
    "print(\"Features armazenadas e versionadas com sucesso no MLflow!\")\n",
    "    "
   ]
  },
  {
   "cell_type": "code",
   "execution_count": null,
   "id": "31350d62",
   "metadata": {},
   "outputs": [],
   "source": []
  }
 ],
 "metadata": {
  "kernelspec": {
   "display_name": "mlflow",
   "language": "python",
   "name": "python3"
  },
  "language_info": {
   "codemirror_mode": {
    "name": "ipython",
    "version": 3
   },
   "file_extension": ".py",
   "mimetype": "text/x-python",
   "name": "python",
   "nbconvert_exporter": "python",
   "pygments_lexer": "ipython3",
   "version": "3.12.9"
  }
 },
 "nbformat": 4,
 "nbformat_minor": 5
}
